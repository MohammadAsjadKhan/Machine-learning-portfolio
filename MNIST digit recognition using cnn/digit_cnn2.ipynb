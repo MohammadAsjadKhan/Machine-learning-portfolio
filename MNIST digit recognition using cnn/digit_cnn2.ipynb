{
  "nbformat": 4,
  "nbformat_minor": 0,
  "metadata": {
    "colab": {
      "provenance": []
    },
    "kernelspec": {
      "name": "python3",
      "display_name": "Python 3"
    },
    "language_info": {
      "name": "python"
    }
  },
  "cells": [
    {
      "cell_type": "code",
      "execution_count": 55,
      "metadata": {
        "colab": {
          "base_uri": "https://localhost:8080/"
        },
        "id": "sQtazf8vxens",
        "outputId": "6608ce8d-7920-4fb1-88fc-83022968aaa1"
      },
      "outputs": [
        {
          "output_type": "stream",
          "name": "stdout",
          "text": [
            "Epoch 1/10\n",
            "469/469 [==============================] - 57s 118ms/step - loss: 0.2996 - accuracy: 0.9092 - val_loss: 0.0594 - val_accuracy: 0.9812\n",
            "Epoch 2/10\n",
            "469/469 [==============================] - 53s 114ms/step - loss: 0.0963 - accuracy: 0.9719 - val_loss: 0.0429 - val_accuracy: 0.9859\n",
            "Epoch 3/10\n",
            "469/469 [==============================] - 53s 113ms/step - loss: 0.0720 - accuracy: 0.9793 - val_loss: 0.0350 - val_accuracy: 0.9889\n",
            "Epoch 4/10\n",
            "469/469 [==============================] - 54s 116ms/step - loss: 0.0584 - accuracy: 0.9827 - val_loss: 0.0311 - val_accuracy: 0.9895\n",
            "Epoch 5/10\n",
            "469/469 [==============================] - 57s 121ms/step - loss: 0.0499 - accuracy: 0.9850 - val_loss: 0.0296 - val_accuracy: 0.9897\n",
            "Epoch 6/10\n",
            "469/469 [==============================] - 54s 115ms/step - loss: 0.0436 - accuracy: 0.9868 - val_loss: 0.0282 - val_accuracy: 0.9901\n",
            "Epoch 7/10\n",
            "469/469 [==============================] - 54s 115ms/step - loss: 0.0389 - accuracy: 0.9877 - val_loss: 0.0240 - val_accuracy: 0.9916\n",
            "Epoch 8/10\n",
            "469/469 [==============================] - 54s 116ms/step - loss: 0.0326 - accuracy: 0.9900 - val_loss: 0.0260 - val_accuracy: 0.9915\n",
            "Epoch 9/10\n",
            "469/469 [==============================] - 53s 114ms/step - loss: 0.0311 - accuracy: 0.9905 - val_loss: 0.0237 - val_accuracy: 0.9919\n",
            "Epoch 10/10\n",
            "469/469 [==============================] - 56s 120ms/step - loss: 0.0281 - accuracy: 0.9911 - val_loss: 0.0240 - val_accuracy: 0.9926\n",
            "Test loss: 0.023977259173989296\n",
            "Test accuracy: 0.9926000237464905\n"
          ]
        }
      ],
      "source": [
        "import tensorflow as tf\n",
        "from tensorflow.keras import layers\n",
        "\n",
        "# Load the MNIST dataset\n",
        "(x_train, y_train), (x_test, y_test) = tf.keras.datasets.mnist.load_data()\n",
        "\n",
        "# Reshape the input data to 4D tensor for use with convolutional layers\n",
        "x_train = x_train.reshape(x_train.shape[0], 28, 28, 1)\n",
        "x_test = x_test.reshape(x_test.shape[0], 28, 28, 1)\n",
        "\n",
        "# Normalize the input data\n",
        "x_train = x_train.astype('float32') / 255\n",
        "x_test = x_test.astype('float32') / 255\n",
        "\n",
        "# Convert the target labels to one-hot encoding\n",
        "y_train = tf.keras.utils.to_categorical(y_train, 10)\n",
        "y_test = tf.keras.utils.to_categorical(y_test, 10)\n",
        "\n",
        "# Define the model\n",
        "model = tf.keras.Sequential([\n",
        "    layers.Conv2D(32, kernel_size=(3,3), activation='relu', input_shape=(28, 28, 1)),\n",
        "    layers.MaxPooling2D(pool_size=(2, 2)),\n",
        "    layers.Conv2D(64, kernel_size=(3,3), activation='relu'),\n",
        "    layers.MaxPooling2D(pool_size=(2, 2)),\n",
        "    layers.Flatten(),\n",
        "    layers.Dense(128, activation='relu'),\n",
        "    layers.Dropout(0.5),\n",
        "    layers.Dense(10, activation='softmax')\n",
        "])\n",
        "\n",
        "# Compile the model\n",
        "model.compile(optimizer='adam', loss='categorical_crossentropy', metrics=['accuracy'])\n",
        "\n",
        "# Train the model\n",
        "model.fit(x_train, y_train, batch_size=128, epochs=10, validation_data=(x_test, y_test))\n",
        "\n",
        "# Evaluate the model on the test set\n",
        "score = model.evaluate(x_test, y_test, verbose=0)\n",
        "print('Test loss:', score[0])\n",
        "print('Test accuracy:', score[1])\n"
      ]
    },
    {
      "cell_type": "code",
      "source": [
        "# So we got test accuracy of 99.26% which is quite good"
      ],
      "metadata": {
        "id": "0i1xgXRmZDvg"
      },
      "execution_count": null,
      "outputs": []
    },
    {
      "cell_type": "code",
      "source": [
        "import matplotlib.pyplot as plt"
      ],
      "metadata": {
        "id": "AurlvxvANGNi"
      },
      "execution_count": 88,
      "outputs": []
    },
    {
      "cell_type": "code",
      "source": [
        "plt.figure(figsize = (20,4))\n",
        "for index,(image,label) in enumerate(zip(x_test[0:5],y_test[0:5])):\n",
        "    plt.subplot(1,5,index + 1)\n",
        "    plt.imshow(np.reshape(image,(28,28)),cmap = plt.cm.gray)\n",
        "    label_ = np.argmax(label)\n",
        "    plt.title('Test : %i\\n' %label_,fontsize = 20)"
      ],
      "metadata": {
        "colab": {
          "base_uri": "https://localhost:8080/",
          "height": 252
        },
        "id": "eYYvizUf4XHL",
        "outputId": "b63a3ebb-62c0-4e24-9006-16c2edcdc17e"
      },
      "execution_count": 106,
      "outputs": [
        {
          "output_type": "display_data",
          "data": {
            "text/plain": [
              "<Figure size 1440x288 with 5 Axes>"
            ],
            "image/png": "[encoded data removed]"
          },
          "metadata": {
            "needs_background": "light"
          }
        }
      ]
    },
    {
      "cell_type": "code",
      "source": [
        "pred = model.predict(x_test)"
      ],
      "metadata": {
        "colab": {
          "base_uri": "https://localhost:8080/"
        },
        "id": "rfejCuFCMU0r",
        "outputId": "f7e70837-3b01-4784-8042-63822f973d4a"
      },
      "execution_count": 95,
      "outputs": [
        {
          "output_type": "stream",
          "name": "stdout",
          "text": [
            "313/313 [==============================] - 4s 14ms/step\n"
          ]
        }
      ]
    },
    {
      "cell_type": "code",
      "source": [
        "n = len(pred)\n",
        "y_pred = np.zeros(n)\n",
        "for i in range(n):\n",
        "  y_pred[i] = np.argmax(pred[i])\n",
        "\n",
        "y_pred"
      ],
      "metadata": {
        "colab": {
          "base_uri": "https://localhost:8080/"
        },
        "id": "qaRVPJQrN9rf",
        "outputId": "8faef558-4c9a-4349-bc88-8851834703dd"
      },
      "execution_count": 96,
      "outputs": [
        {
          "output_type": "execute_result",
          "data": {
            "text/plain": [
              "array([7., 2., 1., ..., 4., 5., 6.])"
            ]
          },
          "metadata": {},
          "execution_count": 96
        }
      ]
    },
    {
      "cell_type": "code",
      "source": [
        "y_pred[:5] "
      ],
      "metadata": {
        "colab": {
          "base_uri": "https://localhost:8080/"
        },
        "id": "_2S5H8oEOSHG",
        "outputId": "bead0075-cc08-43fb-8bc4-d67d2267f7c4"
      },
      "execution_count": 97,
      "outputs": [
        {
          "output_type": "execute_result",
          "data": {
            "text/plain": [
              "array([7., 2., 1., 0., 4.])"
            ]
          },
          "metadata": {},
          "execution_count": 97
        }
      ]
    },
    {
      "cell_type": "code",
      "source": [
        "# so our predictions for first 5 tests are correct"
      ],
      "metadata": {
        "id": "FeTQpV16OWDN"
      },
      "execution_count": null,
      "outputs": []
    }
  ]
}